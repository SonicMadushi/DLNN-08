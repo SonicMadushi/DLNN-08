{
 "cells": [
  {
   "cell_type": "code",
   "execution_count": 3,
   "metadata": {},
   "outputs": [
    {
     "name": "stdout",
     "output_type": "stream",
     "text": [
      "[[  2.  48. 236.  66.   0.   2.   0.]\n",
      " [  1.  48. 260.  51.   0.   2.   1.]\n",
      " [  1.  44. 187.  49.   1.   2.   0.]\n",
      " [  2.  42. 216.  57.   1.   2.   0.]\n",
      " [  2.  56. 156.  42.   0.   2.   0.]]\n",
      "[[1.1]\n",
      " [7. ]\n",
      " [7. ]\n",
      " [0.4]\n",
      " [2.2]]\n"
     ]
    }
   ],
   "source": [
    "import pandas as pd\n",
    "\n",
    "dataset=pd.read_csv('cardio_dataset.csv').values\n",
    "\n",
    "data=dataset[:,:7]\n",
    "target=dataset[:,7]\n",
    "\n",
    "target=target.reshape(-1,1)\n",
    "\n",
    "print(data[:5])\n",
    "print(target[:5])"
   ]
  },
  {
   "cell_type": "code",
   "execution_count": 25,
   "metadata": {},
   "outputs": [
    {
     "name": "stdout",
     "output_type": "stream",
     "text": [
      "[[1.         0.20512821 0.40045249 0.29347826 0.         1.\n",
      "  0.        ]\n",
      " [0.         0.20512821 0.45475113 0.21195652 0.         1.\n",
      "  1.        ]\n",
      " [0.         0.1025641  0.28959276 0.20108696 1.         1.\n",
      "  0.        ]\n",
      " [1.         0.05128205 0.35520362 0.24456522 1.         1.\n",
      "  0.        ]\n",
      " [1.         0.41025641 0.21945701 0.16304348 0.         1.\n",
      "  0.        ]]\n",
      "[[0.01172333]\n",
      " [0.08089097]\n",
      " [0.08089097]\n",
      " [0.003517  ]\n",
      " [0.02461899]]\n"
     ]
    }
   ],
   "source": [
    "from sklearn.preprocessing import MinMaxScaler\n",
    "\n",
    "data_scaler=MinMaxScaler(feature_range=(0,1))\n",
    "target_scaler=MinMaxScaler(feature_range=(0,1))\n",
    "\n",
    "data_scaled=data_scaler.fit_transform(data)\n",
    "target_scaled=target_scaler.fit_transform(target)\n",
    "\n",
    "print(data_scaled[:5])\n",
    "print(target_scaled[:5])"
   ]
  },
  {
   "cell_type": "code",
   "execution_count": 26,
   "metadata": {},
   "outputs": [],
   "source": [
    "from sklearn.model_selection import train_test_split\n",
    "\n",
    "train_data,test_data,train_target,test_target=train_test_split(data_scaled,\n",
    "                                                               target_scaled,\n",
    "                                                               test_size=0.1)"
   ]
  },
  {
   "cell_type": "code",
   "execution_count": 27,
   "metadata": {},
   "outputs": [
    {
     "name": "stdout",
     "output_type": "stream",
     "text": [
      "Model: \"sequential_3\"\n",
      "_________________________________________________________________\n",
      "Layer (type)                 Output Shape              Param #   \n",
      "=================================================================\n",
      "dense_9 (Dense)              (None, 16)                128       \n",
      "_________________________________________________________________\n",
      "dense_10 (Dense)             (None, 32)                544       \n",
      "_________________________________________________________________\n",
      "dense_11 (Dense)             (None, 16)                528       \n",
      "_________________________________________________________________\n",
      "dense_12 (Dense)             (None, 1)                 17        \n",
      "=================================================================\n",
      "Total params: 1,217\n",
      "Trainable params: 1,217\n",
      "Non-trainable params: 0\n",
      "_________________________________________________________________\n"
     ]
    }
   ],
   "source": [
    "from keras.models import Sequential\n",
    "from keras.layers import Dense\n",
    "\n",
    "model=Sequential()\n",
    "\n",
    "model.add(Dense(16,input_dim=7,activation='relu'))\n",
    "model.add(Dense(32,input_dim=16,activation='relu'))\n",
    "model.add(Dense(16,input_dim=32,activation='relu'))\n",
    "model.add(Dense(1,input_dim=16,activation='relu'))\n",
    "\n",
    "model.compile(loss='mse',optimizer='adam')\n",
    "model.summary()"
   ]
  },
  {
   "cell_type": "code",
   "execution_count": 28,
   "metadata": {},
   "outputs": [
    {
     "name": "stdout",
     "output_type": "stream",
     "text": [
      "Train on 5381 samples, validate on 598 samples\n",
      "Epoch 1/100\n",
      "5381/5381 [==============================] - 0s 73us/step - loss: 0.0087 - val_loss: 0.0043\n",
      "Epoch 2/100\n",
      "5381/5381 [==============================] - 0s 51us/step - loss: 0.0045 - val_loss: 0.0035\n",
      "Epoch 3/100\n",
      "5381/5381 [==============================] - 0s 47us/step - loss: 0.0038 - val_loss: 0.0034\n",
      "Epoch 4/100\n",
      "5381/5381 [==============================] - 0s 49us/step - loss: 0.0036 - val_loss: 0.0032\n",
      "Epoch 5/100\n",
      "5381/5381 [==============================] - 0s 47us/step - loss: 0.0035 - val_loss: 0.0030\n",
      "Epoch 6/100\n",
      "5381/5381 [==============================] - 0s 49us/step - loss: 0.0035 - val_loss: 0.0030\n",
      "Epoch 7/100\n",
      "5381/5381 [==============================] - 0s 49us/step - loss: 0.0033 - val_loss: 0.0030\n",
      "Epoch 8/100\n",
      "5381/5381 [==============================] - 0s 46us/step - loss: 0.0033 - val_loss: 0.0030\n",
      "Epoch 9/100\n",
      "5381/5381 [==============================] - 0s 47us/step - loss: 0.0033 - val_loss: 0.0028\n",
      "Epoch 10/100\n",
      "5381/5381 [==============================] - 0s 45us/step - loss: 0.0033 - val_loss: 0.0030\n",
      "Epoch 11/100\n",
      "5381/5381 [==============================] - 0s 49us/step - loss: 0.0032 - val_loss: 0.0028\n",
      "Epoch 12/100\n",
      "5381/5381 [==============================] - 0s 52us/step - loss: 0.0033 - val_loss: 0.0029\n",
      "Epoch 13/100\n",
      "5381/5381 [==============================] - 0s 54us/step - loss: 0.0031 - val_loss: 0.0029\n",
      "Epoch 14/100\n",
      "5381/5381 [==============================] - 0s 46us/step - loss: 0.0032 - val_loss: 0.0029\n",
      "Epoch 15/100\n",
      "5381/5381 [==============================] - 0s 48us/step - loss: 0.0032 - val_loss: 0.0028\n",
      "Epoch 16/100\n",
      "5381/5381 [==============================] - 0s 47us/step - loss: 0.0031 - val_loss: 0.0027\n",
      "Epoch 17/100\n",
      "5381/5381 [==============================] - 0s 46us/step - loss: 0.0031 - val_loss: 0.0028\n",
      "Epoch 18/100\n",
      "5381/5381 [==============================] - 0s 46us/step - loss: 0.0030 - val_loss: 0.0028\n",
      "Epoch 19/100\n",
      "5381/5381 [==============================] - 0s 47us/step - loss: 0.0030 - val_loss: 0.0026\n",
      "Epoch 20/100\n",
      "5381/5381 [==============================] - 0s 47us/step - loss: 0.0030 - val_loss: 0.0032\n",
      "Epoch 21/100\n",
      "5381/5381 [==============================] - 0s 49us/step - loss: 0.0030 - val_loss: 0.0028\n",
      "Epoch 22/100\n",
      "5381/5381 [==============================] - 0s 46us/step - loss: 0.0030 - val_loss: 0.0028\n",
      "Epoch 23/100\n",
      "5381/5381 [==============================] - 0s 46us/step - loss: 0.0030 - val_loss: 0.0028\n",
      "Epoch 24/100\n",
      "5381/5381 [==============================] - 0s 49us/step - loss: 0.0030 - val_loss: 0.0027\n",
      "Epoch 25/100\n",
      "5381/5381 [==============================] - 0s 47us/step - loss: 0.0029 - val_loss: 0.0027\n",
      "Epoch 26/100\n",
      "5381/5381 [==============================] - 0s 45us/step - loss: 0.0029 - val_loss: 0.0027\n",
      "Epoch 27/100\n",
      "5381/5381 [==============================] - 0s 46us/step - loss: 0.0028 - val_loss: 0.0026\n",
      "Epoch 28/100\n",
      "5381/5381 [==============================] - 0s 46us/step - loss: 0.0029 - val_loss: 0.0026\n",
      "Epoch 29/100\n",
      "5381/5381 [==============================] - 0s 47us/step - loss: 0.0029 - val_loss: 0.0027\n",
      "Epoch 30/100\n",
      "5381/5381 [==============================] - 0s 48us/step - loss: 0.0029 - val_loss: 0.0028\n",
      "Epoch 31/100\n",
      "5381/5381 [==============================] - 0s 48us/step - loss: 0.0030 - val_loss: 0.0029\n",
      "Epoch 32/100\n",
      "5381/5381 [==============================] - 0s 45us/step - loss: 0.0029 - val_loss: 0.0026\n",
      "Epoch 33/100\n",
      "5381/5381 [==============================] - 0s 45us/step - loss: 0.0029 - val_loss: 0.0029\n",
      "Epoch 34/100\n",
      "5381/5381 [==============================] - 0s 46us/step - loss: 0.0029 - val_loss: 0.0030\n",
      "Epoch 35/100\n",
      "5381/5381 [==============================] - 0s 46us/step - loss: 0.0029 - val_loss: 0.0028\n",
      "Epoch 36/100\n",
      "5381/5381 [==============================] - 0s 45us/step - loss: 0.0028 - val_loss: 0.0026\n",
      "Epoch 37/100\n",
      "5381/5381 [==============================] - 0s 44us/step - loss: 0.0028 - val_loss: 0.0029\n",
      "Epoch 38/100\n",
      "5381/5381 [==============================] - 0s 44us/step - loss: 0.0028 - val_loss: 0.0027\n",
      "Epoch 39/100\n",
      "5381/5381 [==============================] - 0s 44us/step - loss: 0.0028 - val_loss: 0.0026\n",
      "Epoch 40/100\n",
      "5381/5381 [==============================] - 0s 43us/step - loss: 0.0028 - val_loss: 0.0027\n",
      "Epoch 41/100\n",
      "5381/5381 [==============================] - 0s 44us/step - loss: 0.0028 - val_loss: 0.0026\n",
      "Epoch 42/100\n",
      "5381/5381 [==============================] - 0s 44us/step - loss: 0.0029 - val_loss: 0.0029\n",
      "Epoch 43/100\n",
      "5381/5381 [==============================] - 0s 44us/step - loss: 0.0028 - val_loss: 0.0027\n",
      "Epoch 44/100\n",
      "5381/5381 [==============================] - 0s 45us/step - loss: 0.0028 - val_loss: 0.0029\n",
      "Epoch 45/100\n",
      "5381/5381 [==============================] - 0s 49us/step - loss: 0.0027 - val_loss: 0.0026\n",
      "Epoch 46/100\n",
      "5381/5381 [==============================] - 0s 44us/step - loss: 0.0028 - val_loss: 0.0026\n",
      "Epoch 47/100\n",
      "5381/5381 [==============================] - 0s 45us/step - loss: 0.0027 - val_loss: 0.0028\n",
      "Epoch 48/100\n",
      "5381/5381 [==============================] - 0s 44us/step - loss: 0.0028 - val_loss: 0.0026\n",
      "Epoch 49/100\n",
      "5381/5381 [==============================] - 0s 43us/step - loss: 0.0028 - val_loss: 0.0026\n",
      "Epoch 50/100\n",
      "5381/5381 [==============================] - 0s 45us/step - loss: 0.0028 - val_loss: 0.0028\n",
      "Epoch 51/100\n",
      "5381/5381 [==============================] - 0s 44us/step - loss: 0.0029 - val_loss: 0.0028\n",
      "Epoch 52/100\n",
      "5381/5381 [==============================] - 0s 44us/step - loss: 0.0028 - val_loss: 0.0033\n",
      "Epoch 53/100\n",
      "5381/5381 [==============================] - 0s 44us/step - loss: 0.0029 - val_loss: 0.0027\n",
      "Epoch 54/100\n",
      "5381/5381 [==============================] - 0s 44us/step - loss: 0.0029 - val_loss: 0.0027\n",
      "Epoch 55/100\n",
      "5381/5381 [==============================] - 0s 44us/step - loss: 0.0028 - val_loss: 0.0028\n",
      "Epoch 56/100\n",
      "5381/5381 [==============================] - 0s 43us/step - loss: 0.0027 - val_loss: 0.0026\n",
      "Epoch 57/100\n",
      "5381/5381 [==============================] - 0s 44us/step - loss: 0.0028 - val_loss: 0.0027\n",
      "Epoch 58/100\n",
      "5381/5381 [==============================] - 0s 44us/step - loss: 0.0027 - val_loss: 0.0027\n",
      "Epoch 59/100\n",
      "5381/5381 [==============================] - 0s 43us/step - loss: 0.0027 - val_loss: 0.0027\n",
      "Epoch 60/100\n",
      "5381/5381 [==============================] - 0s 44us/step - loss: 0.0027 - val_loss: 0.0029\n",
      "Epoch 61/100\n",
      "5381/5381 [==============================] - 0s 44us/step - loss: 0.0027 - val_loss: 0.0029\n",
      "Epoch 62/100\n",
      "5381/5381 [==============================] - 0s 44us/step - loss: 0.0027 - val_loss: 0.0032\n",
      "Epoch 63/100\n",
      "5381/5381 [==============================] - 0s 44us/step - loss: 0.0027 - val_loss: 0.0027\n",
      "Epoch 64/100\n",
      "5381/5381 [==============================] - 0s 44us/step - loss: 0.0028 - val_loss: 0.0028\n",
      "Epoch 65/100\n",
      "5381/5381 [==============================] - 0s 46us/step - loss: 0.0028 - val_loss: 0.0027\n",
      "Epoch 66/100\n",
      "5381/5381 [==============================] - 0s 46us/step - loss: 0.0027 - val_loss: 0.0027\n",
      "Epoch 67/100\n",
      "5381/5381 [==============================] - 0s 46us/step - loss: 0.0027 - val_loss: 0.0028\n",
      "Epoch 68/100\n",
      "5381/5381 [==============================] - 0s 49us/step - loss: 0.0027 - val_loss: 0.0030\n",
      "Epoch 69/100\n",
      "5381/5381 [==============================] - 0s 47us/step - loss: 0.0027 - val_loss: 0.0027\n",
      "Epoch 70/100\n",
      "5381/5381 [==============================] - 0s 46us/step - loss: 0.0027 - val_loss: 0.0028\n",
      "Epoch 71/100\n",
      "5381/5381 [==============================] - 0s 47us/step - loss: 0.0027 - val_loss: 0.0033\n",
      "Epoch 72/100\n",
      "5381/5381 [==============================] - 0s 45us/step - loss: 0.0027 - val_loss: 0.0026\n",
      "Epoch 73/100\n",
      "5381/5381 [==============================] - 0s 47us/step - loss: 0.0027 - val_loss: 0.0027\n",
      "Epoch 74/100\n",
      "5381/5381 [==============================] - 0s 47us/step - loss: 0.0027 - val_loss: 0.0028\n",
      "Epoch 75/100\n",
      "5381/5381 [==============================] - 0s 43us/step - loss: 0.0027 - val_loss: 0.0030\n",
      "Epoch 76/100\n",
      "5381/5381 [==============================] - 0s 45us/step - loss: 0.0027 - val_loss: 0.0026\n",
      "Epoch 77/100\n",
      "5381/5381 [==============================] - 0s 44us/step - loss: 0.0027 - val_loss: 0.0027\n",
      "Epoch 78/100\n"
     ]
    },
    {
     "name": "stdout",
     "output_type": "stream",
     "text": [
      "5381/5381 [==============================] - 0s 40us/step - loss: 0.0026 - val_loss: 0.0027\n",
      "Epoch 79/100\n",
      "5381/5381 [==============================] - 0s 43us/step - loss: 0.0027 - val_loss: 0.0026\n",
      "Epoch 80/100\n",
      "5381/5381 [==============================] - 0s 43us/step - loss: 0.0026 - val_loss: 0.0027\n",
      "Epoch 81/100\n",
      "5381/5381 [==============================] - 0s 44us/step - loss: 0.0026 - val_loss: 0.0027\n",
      "Epoch 82/100\n",
      "5381/5381 [==============================] - 0s 43us/step - loss: 0.0027 - val_loss: 0.0028\n",
      "Epoch 83/100\n",
      "5381/5381 [==============================] - 0s 41us/step - loss: 0.0027 - val_loss: 0.0027\n",
      "Epoch 84/100\n",
      "5381/5381 [==============================] - 0s 45us/step - loss: 0.0027 - val_loss: 0.0027\n",
      "Epoch 85/100\n",
      "5381/5381 [==============================] - 0s 44us/step - loss: 0.0027 - val_loss: 0.0027\n",
      "Epoch 86/100\n",
      "5381/5381 [==============================] - 0s 44us/step - loss: 0.0027 - val_loss: 0.0031\n",
      "Epoch 87/100\n",
      "5381/5381 [==============================] - 0s 43us/step - loss: 0.0027 - val_loss: 0.0028\n",
      "Epoch 88/100\n",
      "5381/5381 [==============================] - 0s 43us/step - loss: 0.0027 - val_loss: 0.0027\n",
      "Epoch 89/100\n",
      "5381/5381 [==============================] - 0s 44us/step - loss: 0.0027 - val_loss: 0.0027\n",
      "Epoch 90/100\n",
      "5381/5381 [==============================] - 0s 43us/step - loss: 0.0026 - val_loss: 0.0026\n",
      "Epoch 91/100\n",
      "5381/5381 [==============================] - 0s 43us/step - loss: 0.0027 - val_loss: 0.0027\n",
      "Epoch 92/100\n",
      "5381/5381 [==============================] - 0s 43us/step - loss: 0.0026 - val_loss: 0.0027\n",
      "Epoch 93/100\n",
      "5381/5381 [==============================] - 0s 43us/step - loss: 0.0027 - val_loss: 0.0028\n",
      "Epoch 94/100\n",
      "5381/5381 [==============================] - 0s 44us/step - loss: 0.0027 - val_loss: 0.0029\n",
      "Epoch 95/100\n",
      "5381/5381 [==============================] - 0s 43us/step - loss: 0.0027 - val_loss: 0.0026\n",
      "Epoch 96/100\n",
      "5381/5381 [==============================] - 0s 44us/step - loss: 0.0026 - val_loss: 0.0027\n",
      "Epoch 97/100\n",
      "5381/5381 [==============================] - 0s 43us/step - loss: 0.0027 - val_loss: 0.0029\n",
      "Epoch 98/100\n",
      "5381/5381 [==============================] - 0s 44us/step - loss: 0.0026 - val_loss: 0.0027\n",
      "Epoch 99/100\n",
      "5381/5381 [==============================] - 0s 44us/step - loss: 0.0026 - val_loss: 0.0029\n",
      "Epoch 100/100\n",
      "5381/5381 [==============================] - 0s 44us/step - loss: 0.0027 - val_loss: 0.0027\n"
     ]
    }
   ],
   "source": [
    "history=model.fit(train_data,train_target,epochs=100,validation_split=0.1)"
   ]
  },
  {
   "cell_type": "code",
   "execution_count": 29,
   "metadata": {},
   "outputs": [
    {
     "data": {
      "image/png": "[encoded data removed]",
      "text/plain": [
       "<Figure size 432x288 with 1 Axes>"
      ]
     },
     "metadata": {
      "needs_background": "light"
     },
     "output_type": "display_data"
    }
   ],
   "source": [
    "from matplotlib import pyplot as plt\n",
    "\n",
    "plt.plot(history.history['loss'],'r',label='loss')\n",
    "plt.plot(history.history['val_loss'],'g',label='val_loss')\n",
    "plt.xlabel('#epochs')\n",
    "plt.ylabel('loss')\n",
    "plt.legend()\n",
    "plt.show()"
   ]
  },
  {
   "cell_type": "code",
   "execution_count": 30,
   "metadata": {},
   "outputs": [
    {
     "name": "stdout",
     "output_type": "stream",
     "text": [
      "r2 score: 0.8588120845915522\n"
     ]
    }
   ],
   "source": [
    "result=model.predict(test_data)\n",
    "\n",
    "from sklearn.metrics import r2_score\n",
    "\n",
    "r2=r2_score(test_target,result)\n",
    "print('r2 score:',r2)"
   ]
  },
  {
   "cell_type": "code",
   "execution_count": 31,
   "metadata": {},
   "outputs": [
    {
     "name": "stdout",
     "output_type": "stream",
     "text": [
      "[[0.06447831 0.01992966 0.007034   0.25791325 0.50293083 0.22860492\n",
      "  0.01172333 0.03985932 0.38569754 0.13950762]]\n",
      "[[0.03884934 0.01646243 0.0027428  0.2583337  0.39000887 0.1462979\n",
      "  0.00848181 0.03379478 0.29007393 0.16991809]]\n"
     ]
    }
   ],
   "source": [
    "print(test_target[:10].T)\n",
    "print(result[:10].T)"
   ]
  },
  {
   "cell_type": "code",
   "execution_count": 32,
   "metadata": {},
   "outputs": [
    {
     "name": "stdout",
     "output_type": "stream",
     "text": [
      "Actual Targets [[ 5.6  1.8  0.7 22.1 43.  19.6  1.1  3.5 33.  12. ]]\n",
      "Predicted Targets [[ 3.4138484   1.5042449   0.33396125 22.135866   33.367756   12.579211\n",
      "   0.82349855  2.9826944  24.843306   14.594013  ]]\n"
     ]
    }
   ],
   "source": [
    "real_test_target=target_scaler.inverse_transform(test_target)\n",
    "real_result=target_scaler.inverse_transform(result)\n",
    "\n",
    "print('Actual Targets',real_test_target[:10].T)\n",
    "print('Predicted Targets',real_result[:10].T)"
   ]
  }
 ],
 "metadata": {
  "kernelspec": {
   "display_name": "Python 3",
   "language": "python",
   "name": "python3"
  },
  "language_info": {
   "codemirror_mode": {
    "name": "ipython",
    "version": 3
   },
   "file_extension": ".py",
   "mimetype": "text/x-python",
   "name": "python",
   "nbconvert_exporter": "python",
   "pygments_lexer": "ipython3",
   "version": "3.7.4"
  }
 },
 "nbformat": 4,
 "nbformat_minor": 2
}
